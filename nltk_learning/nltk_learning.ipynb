{
 "cells": [
  {
   "cell_type": "code",
   "execution_count": 1,
   "id": "55f90357-90c1-40ca-9462-1cb0430242c6",
   "metadata": {},
   "outputs": [
    {
     "name": "stderr",
     "output_type": "stream",
     "text": [
      "[nltk_data] Downloading package movie_reviews to\n",
      "[nltk_data]     C:\\Users\\ASUS\\AppData\\Roaming\\nltk_data...\n",
      "[nltk_data]   Package movie_reviews is already up-to-date!\n",
      "[nltk_data] Downloading package punkt to\n",
      "[nltk_data]     C:\\Users\\ASUS\\AppData\\Roaming\\nltk_data...\n",
      "[nltk_data]   Package punkt is already up-to-date!\n",
      "[nltk_data] Downloading package averaged_perceptron_tagger to\n",
      "[nltk_data]     C:\\Users\\ASUS\\AppData\\Roaming\\nltk_data...\n",
      "[nltk_data]   Package averaged_perceptron_tagger is already up-to-\n",
      "[nltk_data]       date!\n",
      "[nltk_data] Downloading package wordnet to\n",
      "[nltk_data]     C:\\Users\\ASUS\\AppData\\Roaming\\nltk_data...\n",
      "[nltk_data]   Package wordnet is already up-to-date!\n",
      "[nltk_data] Downloading package stopwords to\n",
      "[nltk_data]     C:\\Users\\ASUS\\AppData\\Roaming\\nltk_data...\n",
      "[nltk_data]   Package stopwords is already up-to-date!\n",
      "[nltk_data] Downloading package maxent_ne_chunker to\n",
      "[nltk_data]     C:\\Users\\ASUS\\AppData\\Roaming\\nltk_data...\n",
      "[nltk_data]   Package maxent_ne_chunker is already up-to-date!\n",
      "[nltk_data] Downloading package words to\n",
      "[nltk_data]     C:\\Users\\ASUS\\AppData\\Roaming\\nltk_data...\n",
      "[nltk_data]   Package words is already up-to-date!\n",
      "[nltk_data] Downloading package vader_lexicon to\n",
      "[nltk_data]     C:\\Users\\ASUS\\AppData\\Roaming\\nltk_data...\n",
      "[nltk_data]   Package vader_lexicon is already up-to-date!\n",
      "[nltk_data] Downloading collection 'book'\n",
      "[nltk_data]    | \n",
      "[nltk_data]    | Downloading package abc to\n",
      "[nltk_data]    |     C:\\Users\\ASUS\\AppData\\Roaming\\nltk_data...\n",
      "[nltk_data]    |   Package abc is already up-to-date!\n",
      "[nltk_data]    | Downloading package brown to\n",
      "[nltk_data]    |     C:\\Users\\ASUS\\AppData\\Roaming\\nltk_data...\n",
      "[nltk_data]    |   Package brown is already up-to-date!\n",
      "[nltk_data]    | Downloading package chat80 to\n",
      "[nltk_data]    |     C:\\Users\\ASUS\\AppData\\Roaming\\nltk_data...\n",
      "[nltk_data]    |   Package chat80 is already up-to-date!\n",
      "[nltk_data]    | Downloading package cmudict to\n",
      "[nltk_data]    |     C:\\Users\\ASUS\\AppData\\Roaming\\nltk_data...\n",
      "[nltk_data]    |   Package cmudict is already up-to-date!\n",
      "[nltk_data]    | Downloading package conll2000 to\n",
      "[nltk_data]    |     C:\\Users\\ASUS\\AppData\\Roaming\\nltk_data...\n",
      "[nltk_data]    |   Package conll2000 is already up-to-date!\n",
      "[nltk_data]    | Downloading package conll2002 to\n",
      "[nltk_data]    |     C:\\Users\\ASUS\\AppData\\Roaming\\nltk_data...\n",
      "[nltk_data]    |   Package conll2002 is already up-to-date!\n",
      "[nltk_data]    | Downloading package dependency_treebank to\n",
      "[nltk_data]    |     C:\\Users\\ASUS\\AppData\\Roaming\\nltk_data...\n",
      "[nltk_data]    |   Package dependency_treebank is already up-to-date!\n",
      "[nltk_data]    | Downloading package genesis to\n",
      "[nltk_data]    |     C:\\Users\\ASUS\\AppData\\Roaming\\nltk_data...\n",
      "[nltk_data]    |   Package genesis is already up-to-date!\n",
      "[nltk_data]    | Downloading package gutenberg to\n",
      "[nltk_data]    |     C:\\Users\\ASUS\\AppData\\Roaming\\nltk_data...\n",
      "[nltk_data]    |   Package gutenberg is already up-to-date!\n",
      "[nltk_data]    | Downloading package ieer to\n",
      "[nltk_data]    |     C:\\Users\\ASUS\\AppData\\Roaming\\nltk_data...\n",
      "[nltk_data]    |   Package ieer is already up-to-date!\n",
      "[nltk_data]    | Downloading package inaugural to\n",
      "[nltk_data]    |     C:\\Users\\ASUS\\AppData\\Roaming\\nltk_data...\n",
      "[nltk_data]    |   Package inaugural is already up-to-date!\n",
      "[nltk_data]    | Downloading package movie_reviews to\n",
      "[nltk_data]    |     C:\\Users\\ASUS\\AppData\\Roaming\\nltk_data...\n",
      "[nltk_data]    |   Package movie_reviews is already up-to-date!\n",
      "[nltk_data]    | Downloading package nps_chat to\n",
      "[nltk_data]    |     C:\\Users\\ASUS\\AppData\\Roaming\\nltk_data...\n",
      "[nltk_data]    |   Package nps_chat is already up-to-date!\n",
      "[nltk_data]    | Downloading package names to\n",
      "[nltk_data]    |     C:\\Users\\ASUS\\AppData\\Roaming\\nltk_data...\n",
      "[nltk_data]    |   Package names is already up-to-date!\n",
      "[nltk_data]    | Downloading package ppattach to\n",
      "[nltk_data]    |     C:\\Users\\ASUS\\AppData\\Roaming\\nltk_data...\n",
      "[nltk_data]    |   Package ppattach is already up-to-date!\n",
      "[nltk_data]    | Downloading package reuters to\n",
      "[nltk_data]    |     C:\\Users\\ASUS\\AppData\\Roaming\\nltk_data...\n",
      "[nltk_data]    |   Package reuters is already up-to-date!\n",
      "[nltk_data]    | Downloading package senseval to\n",
      "[nltk_data]    |     C:\\Users\\ASUS\\AppData\\Roaming\\nltk_data...\n",
      "[nltk_data]    |   Package senseval is already up-to-date!\n",
      "[nltk_data]    | Downloading package state_union to\n",
      "[nltk_data]    |     C:\\Users\\ASUS\\AppData\\Roaming\\nltk_data...\n",
      "[nltk_data]    |   Package state_union is already up-to-date!\n",
      "[nltk_data]    | Downloading package stopwords to\n",
      "[nltk_data]    |     C:\\Users\\ASUS\\AppData\\Roaming\\nltk_data...\n",
      "[nltk_data]    |   Package stopwords is already up-to-date!\n",
      "[nltk_data]    | Downloading package swadesh to\n",
      "[nltk_data]    |     C:\\Users\\ASUS\\AppData\\Roaming\\nltk_data...\n",
      "[nltk_data]    |   Package swadesh is already up-to-date!\n",
      "[nltk_data]    | Downloading package timit to\n",
      "[nltk_data]    |     C:\\Users\\ASUS\\AppData\\Roaming\\nltk_data...\n",
      "[nltk_data]    |   Package timit is already up-to-date!\n",
      "[nltk_data]    | Downloading package treebank to\n",
      "[nltk_data]    |     C:\\Users\\ASUS\\AppData\\Roaming\\nltk_data...\n",
      "[nltk_data]    |   Package treebank is already up-to-date!\n",
      "[nltk_data]    | Downloading package toolbox to\n",
      "[nltk_data]    |     C:\\Users\\ASUS\\AppData\\Roaming\\nltk_data...\n",
      "[nltk_data]    |   Package toolbox is already up-to-date!\n",
      "[nltk_data]    | Downloading package udhr to\n",
      "[nltk_data]    |     C:\\Users\\ASUS\\AppData\\Roaming\\nltk_data...\n",
      "[nltk_data]    |   Package udhr is already up-to-date!\n",
      "[nltk_data]    | Downloading package udhr2 to\n",
      "[nltk_data]    |     C:\\Users\\ASUS\\AppData\\Roaming\\nltk_data...\n",
      "[nltk_data]    |   Package udhr2 is already up-to-date!\n",
      "[nltk_data]    | Downloading package unicode_samples to\n",
      "[nltk_data]    |     C:\\Users\\ASUS\\AppData\\Roaming\\nltk_data...\n",
      "[nltk_data]    |   Package unicode_samples is already up-to-date!\n",
      "[nltk_data]    | Downloading package webtext to\n",
      "[nltk_data]    |     C:\\Users\\ASUS\\AppData\\Roaming\\nltk_data...\n",
      "[nltk_data]    |   Package webtext is already up-to-date!\n",
      "[nltk_data]    | Downloading package wordnet to\n",
      "[nltk_data]    |     C:\\Users\\ASUS\\AppData\\Roaming\\nltk_data...\n",
      "[nltk_data]    |   Package wordnet is already up-to-date!\n",
      "[nltk_data]    | Downloading package wordnet_ic to\n",
      "[nltk_data]    |     C:\\Users\\ASUS\\AppData\\Roaming\\nltk_data...\n",
      "[nltk_data]    |   Package wordnet_ic is already up-to-date!\n",
      "[nltk_data]    | Downloading package words to\n",
      "[nltk_data]    |     C:\\Users\\ASUS\\AppData\\Roaming\\nltk_data...\n",
      "[nltk_data]    |   Package words is already up-to-date!\n",
      "[nltk_data]    | Downloading package maxent_treebank_pos_tagger to\n",
      "[nltk_data]    |     C:\\Users\\ASUS\\AppData\\Roaming\\nltk_data...\n",
      "[nltk_data]    |   Package maxent_treebank_pos_tagger is already up-\n",
      "[nltk_data]    |       to-date!\n",
      "[nltk_data]    | Downloading package maxent_ne_chunker to\n",
      "[nltk_data]    |     C:\\Users\\ASUS\\AppData\\Roaming\\nltk_data...\n",
      "[nltk_data]    |   Package maxent_ne_chunker is already up-to-date!\n",
      "[nltk_data]    | Downloading package universal_tagset to\n",
      "[nltk_data]    |     C:\\Users\\ASUS\\AppData\\Roaming\\nltk_data...\n",
      "[nltk_data]    |   Package universal_tagset is already up-to-date!\n",
      "[nltk_data]    | Downloading package punkt to\n",
      "[nltk_data]    |     C:\\Users\\ASUS\\AppData\\Roaming\\nltk_data...\n",
      "[nltk_data]    |   Package punkt is already up-to-date!\n",
      "[nltk_data]    | Downloading package book_grammars to\n",
      "[nltk_data]    |     C:\\Users\\ASUS\\AppData\\Roaming\\nltk_data...\n",
      "[nltk_data]    |   Package book_grammars is already up-to-date!\n",
      "[nltk_data]    | Downloading package city_database to\n",
      "[nltk_data]    |     C:\\Users\\ASUS\\AppData\\Roaming\\nltk_data...\n",
      "[nltk_data]    |   Package city_database is already up-to-date!\n",
      "[nltk_data]    | Downloading package tagsets to\n",
      "[nltk_data]    |     C:\\Users\\ASUS\\AppData\\Roaming\\nltk_data...\n",
      "[nltk_data]    |   Package tagsets is already up-to-date!\n",
      "[nltk_data]    | Downloading package panlex_swadesh to\n",
      "[nltk_data]    |     C:\\Users\\ASUS\\AppData\\Roaming\\nltk_data...\n",
      "[nltk_data]    |   Package panlex_swadesh is already up-to-date!\n",
      "[nltk_data]    | Downloading package averaged_perceptron_tagger to\n",
      "[nltk_data]    |     C:\\Users\\ASUS\\AppData\\Roaming\\nltk_data...\n",
      "[nltk_data]    |   Package averaged_perceptron_tagger is already up-\n",
      "[nltk_data]    |       to-date!\n",
      "[nltk_data]    | \n",
      "[nltk_data]  Done downloading collection book\n",
      "[nltk_data] Downloading package senseval to\n",
      "[nltk_data]     C:\\Users\\ASUS\\AppData\\Roaming\\nltk_data...\n",
      "[nltk_data]   Package senseval is already up-to-date!\n",
      "[nltk_data] Downloading package universal_tagset to\n",
      "[nltk_data]     C:\\Users\\ASUS\\AppData\\Roaming\\nltk_data...\n",
      "[nltk_data]   Package universal_tagset is already up-to-date!\n"
     ]
    },
    {
     "data": {
      "text/plain": [
       "True"
      ]
     },
     "execution_count": 1,
     "metadata": {},
     "output_type": "execute_result"
    }
   ],
   "source": [
    "import nltk\n",
    "nltk.download('movie_reviews')\n",
    "nltk.download('punkt')\n",
    "nltk.download('averaged_perceptron_tagger')\n",
    "nltk.download('wordnet')\n",
    "nltk.download('stopwords')\n",
    "nltk.download('maxent_ne_chunker')\n",
    "nltk.download('words')\n",
    "nltk.download('vader_lexicon')\n",
    "nltk.download('book')\n",
    "nltk.download('senseval')\n",
    "nltk.download('universal_tagset')"
   ]
  },
  {
   "cell_type": "code",
   "execution_count": 2,
   "id": "6f26f3cc-570e-42c7-9fee-22ebba6532db",
   "metadata": {},
   "outputs": [],
   "source": [
    "from nltk.corpus import movie_reviews, brown\n",
    "from nltk.tokenize import word_tokenize, sent_tokenize\n",
    "from nltk.corpus import stopwords, wordnet, genesis, senseval\n",
    "from nltk.stem import PorterStemmer, WordNetLemmatizer\n",
    "from nltk import pos_tag, ne_chunk, ngrams, FreqDist, ConditionalFreqDist\n",
    "from nltk.sentiment.vader import SentimentIntensityAnalyzer\n",
    "from nltk.text import Text\n",
    "from nltk.classify import NaiveBayesClassifier\n",
    "from nltk.corpus import wordnet as wn\n",
    "from nltk.chunk import RegexpParser\n",
    "from nltk.collocations import BigramCollocationFinder\n",
    "from nltk.metrics import BigramAssocMeasures\n",
    "from nltk import CFG, ChartParser\n",
    "import random\n",
    "import matplotlib.pyplot as plt\n",
    "import math"
   ]
  },
  {
   "cell_type": "code",
   "execution_count": 3,
   "id": "49f3cefc-4173-4a42-bc50-0fce87b91987",
   "metadata": {},
   "outputs": [
    {
     "name": "stdout",
     "output_type": "stream",
     "text": [
      "=== Enhanced NLTK Features Demonstration ===\n",
      "Dataset: Subset of NLTK Movie Reviews (5 pos + 5 neg reviews)\n",
      "Sample Text (first 200 characters):\n",
      "films adapted from comic books have had plenty of success , whether they're about superheroes ( batman , superman , spawn ) , or geared toward kids ( casper ) or the arthouse crowd ( ghost world ) , b...\n",
      "\n"
     ]
    }
   ],
   "source": [
    "# Here I attempt to load movie_reviews, falling back to brown if unavailable\n",
    "print(\"=== Enhanced NLTK Features Demonstration ===\")\n",
    "try:\n",
    "    pos_ids = movie_reviews.fileids('pos')[:5]\n",
    "    neg_ids = movie_reviews.fileids('neg')[:5]\n",
    "    text = \" \".join(movie_reviews.raw(fileid) for fileid in pos_ids + neg_ids)\n",
    "    print(\"Dataset: Subset of NLTK Movie Reviews (5 pos + 5 neg reviews)\")\n",
    "except LookupError:\n",
    "    print(\"Warning: movie_reviews not found. Falling back to brown corpus.\")\n",
    "    text = \" \".join(brown.words(categories=['news'])[:1000])\n",
    "    print(\"Dataset: Subset of NLTK Brown Corpus (news category, 1000 words)\")\n",
    "print(f\"Sample Text (first 200 characters):\\n{text[:200]}...\\n\")"
   ]
  },
  {
   "cell_type": "code",
   "execution_count": 4,
   "id": "74437973-a964-4370-be65-00405002f676",
   "metadata": {},
   "outputs": [
    {
     "name": "stdout",
     "output_type": "stream",
     "text": [
      "Number of Sentences: 303\n",
      "First Sentence: films adapted from comic books have had plenty of success , whether they're about superheroes ( batman , superman , spawn ) , or geared toward kids ( casper ) or the arthouse crowd ( ghost world ) , but there's never really been a comic book like from hell before .\n",
      "Number of Words: 7172\n",
      "First 10 Words: ['films', 'adapted', 'from', 'comic', 'books', 'have', 'had', 'plenty', 'of', 'success']\n",
      "\n"
     ]
    }
   ],
   "source": [
    "# Here I preprocess text into sentences and words with error handling\n",
    "try:\n",
    "    sentences = sent_tokenize(text)\n",
    "    words = word_tokenize(text)\n",
    "except LookupError:\n",
    "    print(\"Error: Punkt tokenizer not found. Please run 'nltk.download('punkt_tab')' or 'nltk.download('punkt')'.\")\n",
    "    print(\"Falling back to basic splitting for demonstration.\")\n",
    "    sentences = text.split('. ')\n",
    "    words = text.split()\n",
    "print(\"Number of Sentences:\", len(sentences))\n",
    "print(\"First Sentence:\", sentences[0])\n",
    "print(\"Number of Words:\", len(words))\n",
    "print(\"First 10 Words:\", words[:10])\n",
    "print()"
   ]
  },
  {
   "cell_type": "code",
   "execution_count": 5,
   "id": "489d2962-34ab-481b-b0fc-959e154975c2",
   "metadata": {},
   "outputs": [
    {
     "name": "stdout",
     "output_type": "stream",
     "text": [
      "2. Part-of-Speech Tagging\n",
      "POS Tags (first 10): [('films', 'NOUN'), ('adapted', 'VERB'), ('from', 'ADP'), ('comic', 'ADJ'), ('books', 'NOUN'), ('have', 'VERB'), ('had', 'VERB'), ('plenty', 'NOUN'), ('of', 'ADP'), ('success', 'NOUN')]\n",
      "\n"
     ]
    }
   ],
   "source": [
    "# 2. Part-of-Speech (POS) Tagging\n",
    "print(\"2. Part-of-Speech Tagging\")\n",
    "try:\n",
    "    pos_tags = pos_tag(words, tagset='universal')\n",
    "    print(\"POS Tags (first 10):\", pos_tags[:10])\n",
    "except LookupError:\n",
    "    print(\"Error: POS tagger not found. Please run 'nltk.download('averaged_perceptron_tagger_eng')'.\")\n",
    "    print(\"Skipping POS-dependent features.\")\n",
    "    pos_tags = [(word, 'UNKNOWN') for word in words]\n",
    "print()"
   ]
  },
  {
   "cell_type": "code",
   "execution_count": 6,
   "id": "da6cc685-8cb0-428d-9f67-20261397f05a",
   "metadata": {},
   "outputs": [
    {
     "name": "stdout",
     "output_type": "stream",
     "text": [
      "3. Stemming\n",
      "Stemmed Words (first 10): ['film', 'adapt', 'from', 'comic', 'book', 'have', 'had', 'plenti', 'of', 'success']\n",
      "\n"
     ]
    }
   ],
   "source": [
    "# 3. Stemming\n",
    "print(\"3. Stemming\")\n",
    "stemmer = PorterStemmer()\n",
    "stemmed_words = [stemmer.stem(word) for word in words]\n",
    "print(\"Stemmed Words (first 10):\", stemmed_words[:10])\n",
    "print()"
   ]
  },
  {
   "cell_type": "code",
   "execution_count": 7,
   "id": "a15cebf3-c3de-470e-83ed-6f573a88a910",
   "metadata": {},
   "outputs": [
    {
     "name": "stdout",
     "output_type": "stream",
     "text": [
      "4. Lemmatization\n",
      "Lemmatized Words (first 10): ['film', 'adapted', 'from', 'comic', 'book', 'have', 'had', 'plenty', 'of', 'success']\n",
      "\n"
     ]
    }
   ],
   "source": [
    "# 4. Lemmatization\n",
    "print(\"4. Lemmatization\")\n",
    "try:\n",
    "    lemmatizer = WordNetLemmatizer()\n",
    "    lemmatized_words = [lemmatizer.lemmatize(word) for word in words]\n",
    "    print(\"Lemmatized Words (first 10):\", lemmatized_words[:10])\n",
    "except LookupError:\n",
    "    print(\"Error: WordNet not found. Please run 'nltk.download('wordnet')'.\")\n",
    "    print(\"Skipping lemmatization.\")\n",
    "    lemmatized_words = words\n",
    "print()"
   ]
  },
  {
   "cell_type": "code",
   "execution_count": 8,
   "id": "a12c3913-f6d6-41c3-8a7f-15fd1ad07fff",
   "metadata": {},
   "outputs": [
    {
     "name": "stdout",
     "output_type": "stream",
     "text": [
      "5. Stop Words Removal\n",
      "Words after Stop Words Removal (first 10): ['films', 'adapted', 'comic', 'books', 'plenty', 'success', ',', 'whether', \"'re\", 'superheroes']\n",
      "\n"
     ]
    }
   ],
   "source": [
    "# 5. Stop Words Removal\n",
    "print(\"5. Stop Words Removal\")\n",
    "try:\n",
    "    stop_words = set(stopwords.words('english'))\n",
    "    filtered_words = [word for word in words if word.lower() not in stop_words]\n",
    "    print(\"Words after Stop Words Removal (first 10):\", filtered_words[:10])\n",
    "except LookupError:\n",
    "    print(\"Error: Stopwords not found. Please run 'nltk.download('stopwords')'.\")\n",
    "    print(\"Skipping stop words removal.\")\n",
    "    filtered_words = words\n",
    "print()"
   ]
  },
  {
   "cell_type": "code",
   "execution_count": 9,
   "id": "7d892de7-c5f1-4f69-a4e8-e76391fde2df",
   "metadata": {},
   "outputs": [
    {
     "name": "stdout",
     "output_type": "stream",
     "text": [
      "6. Named Entity Recognition\n",
      "Error: NER requires POS tagger. Skipping.\n",
      "\n"
     ]
    }
   ],
   "source": [
    "# 6. Named Entity Recognition (NER)\n",
    "print(\"6. Named Entity Recognition\")\n",
    "try:\n",
    "    subset_pos_tags = pos_tag(word_tokenize(sentences[0]), tagset='universal')\n",
    "    ner_result = ne_chunk(subset_pos_tags)\n",
    "    print(\"NER Result (first sentence):\\n\", ner_result)\n",
    "except LookupError:\n",
    "    print(\"Error: NER requires POS tagger. Skipping.\")\n",
    "    ner_result = \"N/A\"\n",
    "print()"
   ]
  },
  {
   "cell_type": "code",
   "execution_count": 10,
   "id": "254986df-6414-4f20-9957-070fc3749179",
   "metadata": {},
   "outputs": [
    {
     "name": "stdout",
     "output_type": "stream",
     "text": [
      "7. Sentiment Analysis\n",
      "Sentiment Scores: {'neg': 0.108, 'neu': 0.752, 'pos': 0.14, 'compound': 0.9997}\n",
      "Interpretation: Positive > 0.05 is positive, Negative < -0.05 is negative, else neutral\n",
      "\n"
     ]
    }
   ],
   "source": [
    "# 7. Sentiment Analysis\n",
    "print(\"7. Sentiment Analysis\")\n",
    "sid = SentimentIntensityAnalyzer()\n",
    "sentiment_scores = sid.polarity_scores(text)\n",
    "print(\"Sentiment Scores:\", sentiment_scores)\n",
    "print(\"Interpretation: Positive > 0.05 is positive, Negative < -0.05 is negative, else neutral\")\n",
    "print()"
   ]
  },
  {
   "cell_type": "code",
   "execution_count": 11,
   "id": "db8399b9-77ea-45c5-8849-60139b11a45e",
   "metadata": {},
   "outputs": [
    {
     "name": "stdout",
     "output_type": "stream",
     "text": [
      "8. N-grams (Trigrams)\n",
      "Trigrams (first 5): [('films', 'adapted', 'from'), ('adapted', 'from', 'comic'), ('from', 'comic', 'books'), ('comic', 'books', 'have'), ('books', 'have', 'had')]\n",
      "\n"
     ]
    }
   ],
   "source": [
    "# 8. N-grams (Trigrams)\n",
    "print(\"8. N-grams (Trigrams)\")\n",
    "trigrams = list(ngrams(words, 3))\n",
    "print(\"Trigrams (first 5):\", trigrams[:5])\n",
    "print()"
   ]
  },
  {
   "cell_type": "code",
   "execution_count": 12,
   "id": "f7ac5d16-a168-4b8c-9f94-fad0b195b9b5",
   "metadata": {},
   "outputs": [
    {
     "name": "stdout",
     "output_type": "stream",
     "text": [
      "9. Frequency Distribution\n",
      "Most Common Words (top 5): [(',', 423), ('the', 380), ('.', 276), ('a', 167), ('and', 164)]\n",
      "\n"
     ]
    }
   ],
   "source": [
    "# 9. Frequency Distribution\n",
    "print(\"9. Frequency Distribution\")\n",
    "freq_dist = FreqDist(words)\n",
    "print(\"Most Common Words (top 5):\", freq_dist.most_common(5))\n",
    "print()"
   ]
  },
  {
   "cell_type": "code",
   "execution_count": 13,
   "id": "84839305-2d41-41f8-97cb-1df775dcef66",
   "metadata": {},
   "outputs": [
    {
     "name": "stdout",
     "output_type": "stream",
     "text": [
      "10. Concordance for 'film' or 'said' (depending on corpus)\n",
      "Concordance:\n",
      "no matches\n",
      "\n"
     ]
    }
   ],
   "source": [
    "# 10. Concordance\n",
    "print(\"10. Concordance for 'film' or 'said' (depending on corpus)\")\n",
    "text_obj = Text(words)\n",
    "print(\"Concordance:\")\n",
    "word_to_search = 'film' if 'movie_reviews' in text else 'said'\n",
    "text_obj.concordance(word_to_search, lines=3)\n",
    "print()"
   ]
  },
  {
   "cell_type": "code",
   "execution_count": 14,
   "id": "1022638d-feab-45a8-85a5-3bdb488f89e0",
   "metadata": {},
   "outputs": [
    {
     "name": "stdout",
     "output_type": "stream",
     "text": [
      "11. Collocations\n",
      "'ve got; nice hair; matthew broderick\n",
      "\n"
     ]
    }
   ],
   "source": [
    "# 11. Collocations\n",
    "print(\"11. Collocations\")\n",
    "text_obj.collocations(num=3)\n",
    "print()"
   ]
  },
  {
   "cell_type": "code",
   "execution_count": 15,
   "id": "ac55f037-732c-407d-8e05-e5d82150f94b",
   "metadata": {},
   "outputs": [
    {
     "name": "stdout",
     "output_type": "stream",
     "text": [
      "12. Synonyms and Antonyms (for 'great')\n",
      "Synonyms: {'bully', 'big', 'corking', 'slap-up', 'expectant', 'great', 'swell', 'outstanding', 'enceinte', 'smashing', 'majuscule', 'keen', 'large', 'with_child', 'nifty', 'peachy', 'cracking', 'bang-up', 'not_bad', 'capital', 'heavy', 'dandy', 'groovy', 'gravid', 'neat'}\n",
      "Antonyms: None found\n",
      "\n"
     ]
    }
   ],
   "source": [
    "# 12. Synonyms and Antonyms\n",
    "print(\"12. Synonyms and Antonyms (for 'great')\")\n",
    "try:\n",
    "    synsets = wordnet.synsets(\"great\")\n",
    "    synonyms = set()\n",
    "    antonyms = set()\n",
    "    for syn in synsets:\n",
    "        for lemma in syn.lemmas():\n",
    "            synonyms.add(lemma.name())\n",
    "            if lemma.antonyms():\n",
    "                antonyms.add(lemma.antonyms()[0].name())\n",
    "    print(\"Synonyms:\", synonyms)\n",
    "    print(\"Antonyms:\", antonyms if antonyms else \"None found\")\n",
    "except LookupError:\n",
    "    print(\"Error: WordNet not found. Please run 'nltk.download('wordnet')'.\")\n",
    "    print(\"Skipping synonyms and antonyms.\")\n",
    "print()"
   ]
  },
  {
   "cell_type": "code",
   "execution_count": 16,
   "id": "dc492262-d7b7-4b42-8733-4f0fcc84df2a",
   "metadata": {},
   "outputs": [
    {
     "name": "stdout",
     "output_type": "stream",
     "text": [
      "13. Text Generation\n",
      "Generated Text (10 words):\n"
     ]
    },
    {
     "name": "stderr",
     "output_type": "stream",
     "text": [
      "Building ngram index...\n"
     ]
    },
    {
     "name": "stdout",
     "output_type": "stream",
     "text": [
      "likes of curtis . , or ex-husband ) . camelot `` is a current example\n",
      ". ? the island is shaken up by several vicious great white shark\n",
      "attacks right before the movie work as well as it begins : obvious ,\n",
      "obvious , obvious . are good and bad ways of making all types of films\n",
      ", and once campbell 's character gets going , like a movie comes along\n",
      "from a potentially fatal accident and then a movie comes along from a\n",
      "suspect studio , with the movie starts ; no guesswork required . hide\n",
      ", but his\n",
      "films adapted from comic books have had plenty of success\n",
      "\n"
     ]
    }
   ],
   "source": [
    "# 13. Text Generation\n",
    "print(\"13. Text Generation\")\n",
    "movie_text = Text(words)\n",
    "print(\"Generated Text (10 words):\")\n",
    "# Capture the generated text and trim to 10 words\n",
    "generated_text = movie_text.generate()  # Generates ~100 words by default\n",
    "generated_words = \" \".join(movie_text)  # Convert Text object back to string\n",
    "print(\" \".join(generated_words.split()[:10]))  # Print first 10 words\n",
    "print()"
   ]
  },
  {
   "cell_type": "code",
   "execution_count": 17,
   "id": "b20d4a28-d537-4037-8fd6-35de5df35014",
   "metadata": {},
   "outputs": [
    {
     "name": "stdout",
     "output_type": "stream",
     "text": [
      "14. Text Classification (Naive Bayes)\n",
      "Classification of first sentence: pos\n",
      "Most Informative Features\n",
      "                  better = None              neg : pos    =      3.7 : 1.0\n",
      "                     how = True              pos : neg    =      3.7 : 1.0\n",
      "                   these = None              pos : neg    =      3.7 : 1.0\n",
      "                     too = None              pos : neg    =      3.7 : 1.0\n",
      "                    were = None              neg : pos    =      3.7 : 1.0\n",
      "Most Informative Features: None\n",
      "\n"
     ]
    }
   ],
   "source": [
    "# 14. Text Classification (Naive Bayes)\n",
    "print(\"14. Text Classification (Naive Bayes)\")\n",
    "def word_features(words):\n",
    "    return {word: True for word in words}\n",
    "try:\n",
    "    pos_reviews = [(word_features(movie_reviews.words(fileid)), 'pos') for fileid in pos_ids]\n",
    "    neg_reviews = [(word_features(movie_reviews.words(fileid)), 'neg') for fileid in neg_ids]\n",
    "    train_data = pos_reviews + neg_reviews\n",
    "except NameError:\n",
    "    train_data = [(word_features(brown.words(fileid)), 'news') for fileid in brown.fileids('news')[:5]] + \\\n",
    "                 [(word_features(brown.words(fileid)), 'fiction') for fileid in brown.fileids('fiction')[:5]]\n",
    "classifier = NaiveBayesClassifier.train(train_data)\n",
    "test_words = word_tokenize(sentences[0])\n",
    "print(\"Classification of first sentence:\", classifier.classify(word_features(test_words)))\n",
    "print(\"Most Informative Features:\", classifier.show_most_informative_features(5))\n",
    "print()"
   ]
  },
  {
   "cell_type": "code",
   "execution_count": 18,
   "id": "75c1b910-a062-4783-8f86-0c2db76d7152",
   "metadata": {},
   "outputs": [
    {
     "name": "stdout",
     "output_type": "stream",
     "text": [
      "15. Chunking (Noun Phrases)\n",
      "Chunked Result (first sentence):\n",
      " [('films', 'NNS'), ('adapted', 'VBD'), ('from', 'IN'), ('comic', 'JJ'), ('books', 'NNS'), ('have', 'VBP'), ('had', 'VBD'), ('plenty', 'NN'), ('of', 'IN'), ('success', 'NN')] ...\n",
      "\n"
     ]
    }
   ],
   "source": [
    "# 15. Chunking (Noun Phrases)\n",
    "print(\"15. Chunking (Noun Phrases)\")\n",
    "grammar = \"NP: {<DET>?<ADJ>*<NOUN>}\"\n",
    "cp = RegexpParser(grammar)\n",
    "try:\n",
    "    subset_pos_tags_full = pos_tag(word_tokenize(sentences[0]))\n",
    "    chunked = cp.parse(subset_pos_tags_full)\n",
    "    print(\"Chunked Result (first sentence):\\n\", chunked[:10], \"...\")\n",
    "except LookupError:\n",
    "    print(\"Error: Chunking requires POS tagger. Skipping.\")\n",
    "print()"
   ]
  },
  {
   "cell_type": "code",
   "execution_count": 19,
   "id": "ec56776b-5fe9-4299-a396-c472fa713d21",
   "metadata": {},
   "outputs": [
    {
     "name": "stdout",
     "output_type": "stream",
     "text": [
      "16. Word Similarity (between 'film' and 'movie')\n",
      "Wu-Palmer Similarity: 1.0\n",
      "\n"
     ]
    }
   ],
   "source": [
    "# 16. Word Similarity (WordNet)\n",
    "print(\"16. Word Similarity (between 'film' and 'movie')\")\n",
    "try:\n",
    "    film_syn = wn.synset('film.n.01')\n",
    "    movie_syn = wn.synset('movie.n.01')\n",
    "    similarity = film_syn.wup_similarity(movie_syn)\n",
    "    print(\"Wu-Palmer Similarity:\", similarity)\n",
    "except LookupError:\n",
    "    print(\"Error: WordNet not found. Please run 'nltk.download('wordnet')'.\")\n",
    "    print(\"Skipping word similarity.\")\n",
    "print()"
   ]
  },
  {
   "cell_type": "code",
   "execution_count": 20,
   "id": "ca0e23d2-d0e1-43bc-b3bf-366b86ae4192",
   "metadata": {},
   "outputs": [
    {
     "name": "stdout",
     "output_type": "stream",
     "text": [
      "17. Dispersion Plot (for 'film', 'movie', 'great' or 'said', 'time', 'new')\n"
     ]
    },
    {
     "data": {
      "text/plain": [
       "<Figure size 1000x200 with 0 Axes>"
      ]
     },
     "metadata": {},
     "output_type": "display_data"
    },
    {
     "data": {
      "image/png": "[encoded data removed]",
      "text/plain": [
       "<Figure size 640x480 with 1 Axes>"
      ]
     },
     "metadata": {},
     "output_type": "display_data"
    },
    {
     "name": "stdout",
     "output_type": "stream",
     "text": [
      "Note: Plot displayed in a separate window.\n",
      "\n"
     ]
    }
   ],
   "source": [
    "# 17. Dispersion Plot\n",
    "print(\"17. Dispersion Plot (for 'film', 'movie', 'great' or 'said', 'time', 'new')\")\n",
    "plt.figure(figsize=(10, 2))\n",
    "words_to_plot = [\"film\", \"movie\", \"great\"] if 'movie_reviews' in text else [\"said\", \"time\", \"new\"]\n",
    "text_obj.dispersion_plot(words_to_plot)\n",
    "plt.title(\"Dispersion Plot\")\n",
    "plt.show()\n",
    "print(\"Note: Plot displayed in a separate window.\")\n",
    "print()"
   ]
  },
  {
   "cell_type": "code",
   "execution_count": 21,
   "id": "8ba23f23-86a0-40f8-a7eb-a61d88068d93",
   "metadata": {},
   "outputs": [
    {
     "name": "stdout",
     "output_type": "stream",
     "text": [
      "18. Conditional Frequency Distribution (by POS tag)\n",
      "Top 5 Nouns (NOUN): [('film', 36), ('movie', 27), ('shark', 16), ('i', 14), ('films', 10)]\n",
      "Top 5 Verbs (VERB): [('is', 129), (\"'s\", 48), ('are', 35), ('be', 29), ('do', 24)]\n",
      "\n"
     ]
    }
   ],
   "source": [
    "# 18. Conditional Frequency Distribution\n",
    "print(\"18. Conditional Frequency Distribution (by POS tag)\")\n",
    "cfd = ConditionalFreqDist((tag, word) for (word, tag) in pos_tags)\n",
    "print(\"Top 5 Nouns (NOUN):\", cfd['NOUN'].most_common(5))\n",
    "print(\"Top 5 Verbs (VERB):\", cfd['VERB'].most_common(5))\n",
    "print()"
   ]
  },
  {
   "cell_type": "code",
   "execution_count": null,
   "id": "7c61738a-f250-4520-97bb-1346ea018802",
   "metadata": {},
   "outputs": [],
   "source": []
  }
 ],
 "metadata": {
  "kernelspec": {
   "display_name": "Python 3 (ipykernel)",
   "language": "python",
   "name": "python3"
  },
  "language_info": {
   "codemirror_mode": {
    "name": "ipython",
    "version": 3
   },
   "file_extension": ".py",
   "mimetype": "text/x-python",
   "name": "python",
   "nbconvert_exporter": "python",
   "pygments_lexer": "ipython3",
   "version": "3.10.16"
  }
 },
 "nbformat": 4,
 "nbformat_minor": 5
}
